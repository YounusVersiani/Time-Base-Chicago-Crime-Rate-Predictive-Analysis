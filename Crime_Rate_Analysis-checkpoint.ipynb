{
 "cells": [
  {
   "cell_type": "code",
   "execution_count": 2,
   "id": "c5526b94",
   "metadata": {},
   "outputs": [],
   "source": [
    "import pandas as pd"
   ]
  },
  {
   "cell_type": "code",
   "execution_count": 2,
   "id": "06909193",
   "metadata": {},
   "outputs": [
    {
     "data": {
      "text/html": [
       "<div>\n",
       "<style scoped>\n",
       "    .dataframe tbody tr th:only-of-type {\n",
       "        vertical-align: middle;\n",
       "    }\n",
       "\n",
       "    .dataframe tbody tr th {\n",
       "        vertical-align: top;\n",
       "    }\n",
       "\n",
       "    .dataframe thead th {\n",
       "        text-align: right;\n",
       "    }\n",
       "</style>\n",
       "<table border=\"1\" class=\"dataframe\">\n",
       "  <thead>\n",
       "    <tr style=\"text-align: right;\">\n",
       "      <th></th>\n",
       "      <th>ID</th>\n",
       "      <th>Case Number</th>\n",
       "      <th>Date</th>\n",
       "      <th>Block</th>\n",
       "      <th>IUCR</th>\n",
       "      <th>Primary Type</th>\n",
       "      <th>Description</th>\n",
       "      <th>Location Description</th>\n",
       "      <th>Arrest</th>\n",
       "      <th>Domestic</th>\n",
       "      <th>...</th>\n",
       "      <th>Ward</th>\n",
       "      <th>Community Area</th>\n",
       "      <th>FBI Code</th>\n",
       "      <th>X Coordinate</th>\n",
       "      <th>Y Coordinate</th>\n",
       "      <th>Year</th>\n",
       "      <th>Updated On</th>\n",
       "      <th>Latitude</th>\n",
       "      <th>Longitude</th>\n",
       "      <th>Location</th>\n",
       "    </tr>\n",
       "  </thead>\n",
       "  <tbody>\n",
       "    <tr>\n",
       "      <th>0</th>\n",
       "      <td>10224738</td>\n",
       "      <td>HY411648</td>\n",
       "      <td>09/05/2015 01:30:00 PM</td>\n",
       "      <td>043XX S WOOD ST</td>\n",
       "      <td>0486</td>\n",
       "      <td>BATTERY</td>\n",
       "      <td>DOMESTIC BATTERY SIMPLE</td>\n",
       "      <td>RESIDENCE</td>\n",
       "      <td>False</td>\n",
       "      <td>True</td>\n",
       "      <td>...</td>\n",
       "      <td>12.0</td>\n",
       "      <td>61.0</td>\n",
       "      <td>08B</td>\n",
       "      <td>1165074.0</td>\n",
       "      <td>1875917.0</td>\n",
       "      <td>2015</td>\n",
       "      <td>02/10/2018 03:50:01 PM</td>\n",
       "      <td>41.815117</td>\n",
       "      <td>-87.670000</td>\n",
       "      <td>(41.815117282, -87.669999562)</td>\n",
       "    </tr>\n",
       "    <tr>\n",
       "      <th>1</th>\n",
       "      <td>10224739</td>\n",
       "      <td>HY411615</td>\n",
       "      <td>09/04/2015 11:30:00 AM</td>\n",
       "      <td>008XX N CENTRAL AVE</td>\n",
       "      <td>0870</td>\n",
       "      <td>THEFT</td>\n",
       "      <td>POCKET-PICKING</td>\n",
       "      <td>CTA BUS</td>\n",
       "      <td>False</td>\n",
       "      <td>False</td>\n",
       "      <td>...</td>\n",
       "      <td>29.0</td>\n",
       "      <td>25.0</td>\n",
       "      <td>06</td>\n",
       "      <td>1138875.0</td>\n",
       "      <td>1904869.0</td>\n",
       "      <td>2015</td>\n",
       "      <td>02/10/2018 03:50:01 PM</td>\n",
       "      <td>41.895080</td>\n",
       "      <td>-87.765400</td>\n",
       "      <td>(41.895080471, -87.765400451)</td>\n",
       "    </tr>\n",
       "    <tr>\n",
       "      <th>2</th>\n",
       "      <td>11646166</td>\n",
       "      <td>JC213529</td>\n",
       "      <td>09/01/2018 12:01:00 AM</td>\n",
       "      <td>082XX S INGLESIDE AVE</td>\n",
       "      <td>0810</td>\n",
       "      <td>THEFT</td>\n",
       "      <td>OVER $500</td>\n",
       "      <td>RESIDENCE</td>\n",
       "      <td>False</td>\n",
       "      <td>True</td>\n",
       "      <td>...</td>\n",
       "      <td>8.0</td>\n",
       "      <td>44.0</td>\n",
       "      <td>06</td>\n",
       "      <td>NaN</td>\n",
       "      <td>NaN</td>\n",
       "      <td>2018</td>\n",
       "      <td>04/06/2019 04:04:43 PM</td>\n",
       "      <td>NaN</td>\n",
       "      <td>NaN</td>\n",
       "      <td>NaN</td>\n",
       "    </tr>\n",
       "    <tr>\n",
       "      <th>3</th>\n",
       "      <td>10224740</td>\n",
       "      <td>HY411595</td>\n",
       "      <td>09/05/2015 12:45:00 PM</td>\n",
       "      <td>035XX W BARRY AVE</td>\n",
       "      <td>2023</td>\n",
       "      <td>NARCOTICS</td>\n",
       "      <td>POSS: HEROIN(BRN/TAN)</td>\n",
       "      <td>SIDEWALK</td>\n",
       "      <td>True</td>\n",
       "      <td>False</td>\n",
       "      <td>...</td>\n",
       "      <td>35.0</td>\n",
       "      <td>21.0</td>\n",
       "      <td>18</td>\n",
       "      <td>1152037.0</td>\n",
       "      <td>1920384.0</td>\n",
       "      <td>2015</td>\n",
       "      <td>02/10/2018 03:50:01 PM</td>\n",
       "      <td>41.937406</td>\n",
       "      <td>-87.716650</td>\n",
       "      <td>(41.937405765, -87.716649687)</td>\n",
       "    </tr>\n",
       "    <tr>\n",
       "      <th>4</th>\n",
       "      <td>10224741</td>\n",
       "      <td>HY411610</td>\n",
       "      <td>09/05/2015 01:00:00 PM</td>\n",
       "      <td>0000X N LARAMIE AVE</td>\n",
       "      <td>0560</td>\n",
       "      <td>ASSAULT</td>\n",
       "      <td>SIMPLE</td>\n",
       "      <td>APARTMENT</td>\n",
       "      <td>False</td>\n",
       "      <td>True</td>\n",
       "      <td>...</td>\n",
       "      <td>28.0</td>\n",
       "      <td>25.0</td>\n",
       "      <td>08A</td>\n",
       "      <td>1141706.0</td>\n",
       "      <td>1900086.0</td>\n",
       "      <td>2015</td>\n",
       "      <td>02/10/2018 03:50:01 PM</td>\n",
       "      <td>41.881903</td>\n",
       "      <td>-87.755121</td>\n",
       "      <td>(41.881903443, -87.755121152)</td>\n",
       "    </tr>\n",
       "  </tbody>\n",
       "</table>\n",
       "<p>5 rows × 22 columns</p>\n",
       "</div>"
      ],
      "text/plain": [
       "         ID Case Number                    Date                  Block  IUCR  \\\n",
       "0  10224738    HY411648  09/05/2015 01:30:00 PM        043XX S WOOD ST  0486   \n",
       "1  10224739    HY411615  09/04/2015 11:30:00 AM    008XX N CENTRAL AVE  0870   \n",
       "2  11646166    JC213529  09/01/2018 12:01:00 AM  082XX S INGLESIDE AVE  0810   \n",
       "3  10224740    HY411595  09/05/2015 12:45:00 PM      035XX W BARRY AVE  2023   \n",
       "4  10224741    HY411610  09/05/2015 01:00:00 PM    0000X N LARAMIE AVE  0560   \n",
       "\n",
       "  Primary Type              Description Location Description  Arrest  \\\n",
       "0      BATTERY  DOMESTIC BATTERY SIMPLE            RESIDENCE   False   \n",
       "1        THEFT           POCKET-PICKING              CTA BUS   False   \n",
       "2        THEFT                OVER $500            RESIDENCE   False   \n",
       "3    NARCOTICS    POSS: HEROIN(BRN/TAN)             SIDEWALK    True   \n",
       "4      ASSAULT                   SIMPLE            APARTMENT   False   \n",
       "\n",
       "   Domestic  ...  Ward  Community Area  FBI Code  X Coordinate Y Coordinate  \\\n",
       "0      True  ...  12.0            61.0       08B     1165074.0    1875917.0   \n",
       "1     False  ...  29.0            25.0        06     1138875.0    1904869.0   \n",
       "2      True  ...   8.0            44.0        06           NaN          NaN   \n",
       "3     False  ...  35.0            21.0        18     1152037.0    1920384.0   \n",
       "4      True  ...  28.0            25.0       08A     1141706.0    1900086.0   \n",
       "\n",
       "   Year              Updated On   Latitude  Longitude  \\\n",
       "0  2015  02/10/2018 03:50:01 PM  41.815117 -87.670000   \n",
       "1  2015  02/10/2018 03:50:01 PM  41.895080 -87.765400   \n",
       "2  2018  04/06/2019 04:04:43 PM        NaN        NaN   \n",
       "3  2015  02/10/2018 03:50:01 PM  41.937406 -87.716650   \n",
       "4  2015  02/10/2018 03:50:01 PM  41.881903 -87.755121   \n",
       "\n",
       "                        Location  \n",
       "0  (41.815117282, -87.669999562)  \n",
       "1  (41.895080471, -87.765400451)  \n",
       "2                            NaN  \n",
       "3  (41.937405765, -87.716649687)  \n",
       "4  (41.881903443, -87.755121152)  \n",
       "\n",
       "[5 rows x 22 columns]"
      ]
     },
     "execution_count": 2,
     "metadata": {},
     "output_type": "execute_result"
    }
   ],
   "source": [
    "df = pd.read_csv(\"Crimes_-_2001_to_Present.csv\")\n",
    "df.head()"
   ]
  },
  {
   "cell_type": "code",
   "execution_count": 3,
   "id": "b411f24b",
   "metadata": {},
   "outputs": [
    {
     "data": {
      "text/html": [
       "<div>\n",
       "<style scoped>\n",
       "    .dataframe tbody tr th:only-of-type {\n",
       "        vertical-align: middle;\n",
       "    }\n",
       "\n",
       "    .dataframe tbody tr th {\n",
       "        vertical-align: top;\n",
       "    }\n",
       "\n",
       "    .dataframe thead th {\n",
       "        text-align: right;\n",
       "    }\n",
       "</style>\n",
       "<table border=\"1\" class=\"dataframe\">\n",
       "  <thead>\n",
       "    <tr style=\"text-align: right;\">\n",
       "      <th></th>\n",
       "      <th>ID</th>\n",
       "      <th>Beat</th>\n",
       "      <th>District</th>\n",
       "      <th>Ward</th>\n",
       "      <th>Community Area</th>\n",
       "      <th>X Coordinate</th>\n",
       "      <th>Y Coordinate</th>\n",
       "      <th>Year</th>\n",
       "      <th>Latitude</th>\n",
       "      <th>Longitude</th>\n",
       "    </tr>\n",
       "  </thead>\n",
       "  <tbody>\n",
       "    <tr>\n",
       "      <th>count</th>\n",
       "      <td>7.784664e+06</td>\n",
       "      <td>7.784664e+06</td>\n",
       "      <td>7.784617e+06</td>\n",
       "      <td>7.169816e+06</td>\n",
       "      <td>7.171188e+06</td>\n",
       "      <td>7.697816e+06</td>\n",
       "      <td>7.697816e+06</td>\n",
       "      <td>7.784664e+06</td>\n",
       "      <td>7.697816e+06</td>\n",
       "      <td>7.697816e+06</td>\n",
       "    </tr>\n",
       "    <tr>\n",
       "      <th>mean</th>\n",
       "      <td>7.026439e+06</td>\n",
       "      <td>1.185918e+03</td>\n",
       "      <td>1.129466e+01</td>\n",
       "      <td>2.275420e+01</td>\n",
       "      <td>3.748472e+01</td>\n",
       "      <td>1.164601e+06</td>\n",
       "      <td>1.885783e+06</td>\n",
       "      <td>2.009944e+03</td>\n",
       "      <td>4.184218e+01</td>\n",
       "      <td>-8.767149e+01</td>\n",
       "    </tr>\n",
       "    <tr>\n",
       "      <th>std</th>\n",
       "      <td>3.502657e+06</td>\n",
       "      <td>7.031335e+02</td>\n",
       "      <td>6.952422e+00</td>\n",
       "      <td>1.385106e+01</td>\n",
       "      <td>2.154115e+01</td>\n",
       "      <td>1.684658e+04</td>\n",
       "      <td>3.227531e+04</td>\n",
       "      <td>6.260628e+00</td>\n",
       "      <td>8.879598e-02</td>\n",
       "      <td>6.108257e-02</td>\n",
       "    </tr>\n",
       "    <tr>\n",
       "      <th>min</th>\n",
       "      <td>6.340000e+02</td>\n",
       "      <td>1.110000e+02</td>\n",
       "      <td>1.000000e+00</td>\n",
       "      <td>1.000000e+00</td>\n",
       "      <td>0.000000e+00</td>\n",
       "      <td>0.000000e+00</td>\n",
       "      <td>0.000000e+00</td>\n",
       "      <td>2.001000e+03</td>\n",
       "      <td>3.661945e+01</td>\n",
       "      <td>-9.168657e+01</td>\n",
       "    </tr>\n",
       "    <tr>\n",
       "      <th>25%</th>\n",
       "      <td>3.792574e+06</td>\n",
       "      <td>6.210000e+02</td>\n",
       "      <td>6.000000e+00</td>\n",
       "      <td>1.000000e+01</td>\n",
       "      <td>2.300000e+01</td>\n",
       "      <td>1.152976e+06</td>\n",
       "      <td>1.859073e+06</td>\n",
       "      <td>2.005000e+03</td>\n",
       "      <td>4.176871e+01</td>\n",
       "      <td>-8.771367e+01</td>\n",
       "    </tr>\n",
       "    <tr>\n",
       "      <th>50%</th>\n",
       "      <td>7.029327e+06</td>\n",
       "      <td>1.034000e+03</td>\n",
       "      <td>1.000000e+01</td>\n",
       "      <td>2.300000e+01</td>\n",
       "      <td>3.200000e+01</td>\n",
       "      <td>1.166110e+06</td>\n",
       "      <td>1.890730e+06</td>\n",
       "      <td>2.009000e+03</td>\n",
       "      <td>4.185591e+01</td>\n",
       "      <td>-8.766584e+01</td>\n",
       "    </tr>\n",
       "    <tr>\n",
       "      <th>75%</th>\n",
       "      <td>1.013113e+07</td>\n",
       "      <td>1.731000e+03</td>\n",
       "      <td>1.700000e+01</td>\n",
       "      <td>3.400000e+01</td>\n",
       "      <td>5.700000e+01</td>\n",
       "      <td>1.176372e+06</td>\n",
       "      <td>1.909273e+06</td>\n",
       "      <td>2.015000e+03</td>\n",
       "      <td>4.190677e+01</td>\n",
       "      <td>-8.762819e+01</td>\n",
       "    </tr>\n",
       "    <tr>\n",
       "      <th>max</th>\n",
       "      <td>1.305643e+07</td>\n",
       "      <td>2.535000e+03</td>\n",
       "      <td>3.100000e+01</td>\n",
       "      <td>5.000000e+01</td>\n",
       "      <td>7.700000e+01</td>\n",
       "      <td>1.205119e+06</td>\n",
       "      <td>1.951622e+06</td>\n",
       "      <td>2.023000e+03</td>\n",
       "      <td>4.202291e+01</td>\n",
       "      <td>-8.752453e+01</td>\n",
       "    </tr>\n",
       "  </tbody>\n",
       "</table>\n",
       "</div>"
      ],
      "text/plain": [
       "                 ID          Beat      District          Ward  Community Area  \\\n",
       "count  7.784664e+06  7.784664e+06  7.784617e+06  7.169816e+06    7.171188e+06   \n",
       "mean   7.026439e+06  1.185918e+03  1.129466e+01  2.275420e+01    3.748472e+01   \n",
       "std    3.502657e+06  7.031335e+02  6.952422e+00  1.385106e+01    2.154115e+01   \n",
       "min    6.340000e+02  1.110000e+02  1.000000e+00  1.000000e+00    0.000000e+00   \n",
       "25%    3.792574e+06  6.210000e+02  6.000000e+00  1.000000e+01    2.300000e+01   \n",
       "50%    7.029327e+06  1.034000e+03  1.000000e+01  2.300000e+01    3.200000e+01   \n",
       "75%    1.013113e+07  1.731000e+03  1.700000e+01  3.400000e+01    5.700000e+01   \n",
       "max    1.305643e+07  2.535000e+03  3.100000e+01  5.000000e+01    7.700000e+01   \n",
       "\n",
       "       X Coordinate  Y Coordinate          Year      Latitude     Longitude  \n",
       "count  7.697816e+06  7.697816e+06  7.784664e+06  7.697816e+06  7.697816e+06  \n",
       "mean   1.164601e+06  1.885783e+06  2.009944e+03  4.184218e+01 -8.767149e+01  \n",
       "std    1.684658e+04  3.227531e+04  6.260628e+00  8.879598e-02  6.108257e-02  \n",
       "min    0.000000e+00  0.000000e+00  2.001000e+03  3.661945e+01 -9.168657e+01  \n",
       "25%    1.152976e+06  1.859073e+06  2.005000e+03  4.176871e+01 -8.771367e+01  \n",
       "50%    1.166110e+06  1.890730e+06  2.009000e+03  4.185591e+01 -8.766584e+01  \n",
       "75%    1.176372e+06  1.909273e+06  2.015000e+03  4.190677e+01 -8.762819e+01  \n",
       "max    1.205119e+06  1.951622e+06  2.023000e+03  4.202291e+01 -8.752453e+01  "
      ]
     },
     "execution_count": 3,
     "metadata": {},
     "output_type": "execute_result"
    }
   ],
   "source": [
    "df.describe()"
   ]
  },
  {
   "cell_type": "code",
   "execution_count": 4,
   "id": "fa713a83",
   "metadata": {},
   "outputs": [
    {
     "name": "stdout",
     "output_type": "stream",
     "text": [
      "<class 'pandas.core.frame.DataFrame'>\n",
      "RangeIndex: 7784664 entries, 0 to 7784663\n",
      "Data columns (total 22 columns):\n",
      " #   Column                Dtype  \n",
      "---  ------                -----  \n",
      " 0   ID                    int64  \n",
      " 1   Case Number           object \n",
      " 2   Date                  object \n",
      " 3   Block                 object \n",
      " 4   IUCR                  object \n",
      " 5   Primary Type          object \n",
      " 6   Description           object \n",
      " 7   Location Description  object \n",
      " 8   Arrest                bool   \n",
      " 9   Domestic              bool   \n",
      " 10  Beat                  int64  \n",
      " 11  District              float64\n",
      " 12  Ward                  float64\n",
      " 13  Community Area        float64\n",
      " 14  FBI Code              object \n",
      " 15  X Coordinate          float64\n",
      " 16  Y Coordinate          float64\n",
      " 17  Year                  int64  \n",
      " 18  Updated On            object \n",
      " 19  Latitude              float64\n",
      " 20  Longitude             float64\n",
      " 21  Location              object \n",
      "dtypes: bool(2), float64(7), int64(3), object(10)\n",
      "memory usage: 1.2+ GB\n"
     ]
    }
   ],
   "source": [
    "df.info()"
   ]
  },
  {
   "cell_type": "code",
   "execution_count": 5,
   "id": "02804512",
   "metadata": {},
   "outputs": [
    {
     "name": "stdout",
     "output_type": "stream",
     "text": [
      "ID                           0\n",
      "Case Number                  4\n",
      "Date                         0\n",
      "Block                        0\n",
      "IUCR                         0\n",
      "Primary Type                 0\n",
      "Description                  0\n",
      "Location Description     10381\n",
      "Arrest                       0\n",
      "Domestic                     0\n",
      "Beat                         0\n",
      "District                    47\n",
      "Ward                    614848\n",
      "Community Area          613476\n",
      "FBI Code                     0\n",
      "X Coordinate             86848\n",
      "Y Coordinate             86848\n",
      "Year                         0\n",
      "Updated On                   0\n",
      "Latitude                 86848\n",
      "Longitude                86848\n",
      "Location                 86848\n",
      "dtype: int64\n"
     ]
    }
   ],
   "source": [
    "print(df.isnull().sum())"
   ]
  },
  {
   "cell_type": "code",
   "execution_count": 3,
   "id": "66164e49",
   "metadata": {},
   "outputs": [],
   "source": [
    "df_cleaned = df.dropna(how='any')"
   ]
  },
  {
   "cell_type": "code",
   "execution_count": 7,
   "id": "4dbfe1a7",
   "metadata": {},
   "outputs": [
    {
     "name": "stdout",
     "output_type": "stream",
     "text": [
      "<class 'pandas.core.frame.DataFrame'>\n",
      "Int64Index: 7084435 entries, 0 to 7784663\n",
      "Data columns (total 22 columns):\n",
      " #   Column                Dtype  \n",
      "---  ------                -----  \n",
      " 0   ID                    int64  \n",
      " 1   Case Number           object \n",
      " 2   Date                  object \n",
      " 3   Block                 object \n",
      " 4   IUCR                  object \n",
      " 5   Primary Type          object \n",
      " 6   Description           object \n",
      " 7   Location Description  object \n",
      " 8   Arrest                bool   \n",
      " 9   Domestic              bool   \n",
      " 10  Beat                  int64  \n",
      " 11  District              float64\n",
      " 12  Ward                  float64\n",
      " 13  Community Area        float64\n",
      " 14  FBI Code              object \n",
      " 15  X Coordinate          float64\n",
      " 16  Y Coordinate          float64\n",
      " 17  Year                  int64  \n",
      " 18  Updated On            object \n",
      " 19  Latitude              float64\n",
      " 20  Longitude             float64\n",
      " 21  Location              object \n",
      "dtypes: bool(2), float64(7), int64(3), object(10)\n",
      "memory usage: 1.1+ GB\n"
     ]
    }
   ],
   "source": [
    "df_cleaned.info()"
   ]
  },
  {
   "cell_type": "code",
   "execution_count": 8,
   "id": "e49d6b5c",
   "metadata": {
    "scrolled": true
   },
   "outputs": [
    {
     "name": "stdout",
     "output_type": "stream",
     "text": [
      "ID                      0\n",
      "Case Number             0\n",
      "Date                    0\n",
      "Block                   0\n",
      "IUCR                    0\n",
      "Primary Type            0\n",
      "Description             0\n",
      "Location Description    0\n",
      "Arrest                  0\n",
      "Domestic                0\n",
      "Beat                    0\n",
      "District                0\n",
      "Ward                    0\n",
      "Community Area          0\n",
      "FBI Code                0\n",
      "X Coordinate            0\n",
      "Y Coordinate            0\n",
      "Year                    0\n",
      "Updated On              0\n",
      "Latitude                0\n",
      "Longitude               0\n",
      "Location                0\n",
      "dtype: int64\n"
     ]
    }
   ],
   "source": [
    "print(df_cleaned.isnull().sum())"
   ]
  },
  {
   "cell_type": "code",
   "execution_count": 5,
   "id": "1cf12a77",
   "metadata": {},
   "outputs": [
    {
     "data": {
      "text/html": [
       "<div>\n",
       "<style scoped>\n",
       "    .dataframe tbody tr th:only-of-type {\n",
       "        vertical-align: middle;\n",
       "    }\n",
       "\n",
       "    .dataframe tbody tr th {\n",
       "        vertical-align: top;\n",
       "    }\n",
       "\n",
       "    .dataframe thead th {\n",
       "        text-align: right;\n",
       "    }\n",
       "</style>\n",
       "<table border=\"1\" class=\"dataframe\">\n",
       "  <thead>\n",
       "    <tr style=\"text-align: right;\">\n",
       "      <th></th>\n",
       "      <th>ID</th>\n",
       "      <th>Case Number</th>\n",
       "      <th>Date</th>\n",
       "      <th>Block</th>\n",
       "      <th>IUCR</th>\n",
       "      <th>Primary Type</th>\n",
       "      <th>Description</th>\n",
       "      <th>Location Description</th>\n",
       "      <th>Arrest</th>\n",
       "      <th>Domestic</th>\n",
       "      <th>...</th>\n",
       "      <th>Ward</th>\n",
       "      <th>Community Area</th>\n",
       "      <th>FBI Code</th>\n",
       "      <th>X Coordinate</th>\n",
       "      <th>Y Coordinate</th>\n",
       "      <th>Year</th>\n",
       "      <th>Updated On</th>\n",
       "      <th>Latitude</th>\n",
       "      <th>Longitude</th>\n",
       "      <th>Location</th>\n",
       "    </tr>\n",
       "  </thead>\n",
       "  <tbody>\n",
       "    <tr>\n",
       "      <th>0</th>\n",
       "      <td>10224738</td>\n",
       "      <td>HY411648</td>\n",
       "      <td>09/05/2015 01:30:00 PM</td>\n",
       "      <td>043XX S WOOD ST</td>\n",
       "      <td>0486</td>\n",
       "      <td>BATTERY</td>\n",
       "      <td>DOMESTIC BATTERY SIMPLE</td>\n",
       "      <td>RESIDENCE</td>\n",
       "      <td>False</td>\n",
       "      <td>True</td>\n",
       "      <td>...</td>\n",
       "      <td>12.0</td>\n",
       "      <td>61.0</td>\n",
       "      <td>08B</td>\n",
       "      <td>1165074.0</td>\n",
       "      <td>1875917.0</td>\n",
       "      <td>2015</td>\n",
       "      <td>02/10/2018 03:50:01 PM</td>\n",
       "      <td>41.815117</td>\n",
       "      <td>-87.670000</td>\n",
       "      <td>(41.815117282, -87.669999562)</td>\n",
       "    </tr>\n",
       "    <tr>\n",
       "      <th>1</th>\n",
       "      <td>10224739</td>\n",
       "      <td>HY411615</td>\n",
       "      <td>09/04/2015 11:30:00 AM</td>\n",
       "      <td>008XX N CENTRAL AVE</td>\n",
       "      <td>0870</td>\n",
       "      <td>THEFT</td>\n",
       "      <td>POCKET-PICKING</td>\n",
       "      <td>CTA BUS</td>\n",
       "      <td>False</td>\n",
       "      <td>False</td>\n",
       "      <td>...</td>\n",
       "      <td>29.0</td>\n",
       "      <td>25.0</td>\n",
       "      <td>06</td>\n",
       "      <td>1138875.0</td>\n",
       "      <td>1904869.0</td>\n",
       "      <td>2015</td>\n",
       "      <td>02/10/2018 03:50:01 PM</td>\n",
       "      <td>41.895080</td>\n",
       "      <td>-87.765400</td>\n",
       "      <td>(41.895080471, -87.765400451)</td>\n",
       "    </tr>\n",
       "    <tr>\n",
       "      <th>3</th>\n",
       "      <td>10224740</td>\n",
       "      <td>HY411595</td>\n",
       "      <td>09/05/2015 12:45:00 PM</td>\n",
       "      <td>035XX W BARRY AVE</td>\n",
       "      <td>2023</td>\n",
       "      <td>NARCOTICS</td>\n",
       "      <td>POSS: HEROIN(BRN/TAN)</td>\n",
       "      <td>SIDEWALK</td>\n",
       "      <td>True</td>\n",
       "      <td>False</td>\n",
       "      <td>...</td>\n",
       "      <td>35.0</td>\n",
       "      <td>21.0</td>\n",
       "      <td>18</td>\n",
       "      <td>1152037.0</td>\n",
       "      <td>1920384.0</td>\n",
       "      <td>2015</td>\n",
       "      <td>02/10/2018 03:50:01 PM</td>\n",
       "      <td>41.937406</td>\n",
       "      <td>-87.716650</td>\n",
       "      <td>(41.937405765, -87.716649687)</td>\n",
       "    </tr>\n",
       "    <tr>\n",
       "      <th>4</th>\n",
       "      <td>10224741</td>\n",
       "      <td>HY411610</td>\n",
       "      <td>09/05/2015 01:00:00 PM</td>\n",
       "      <td>0000X N LARAMIE AVE</td>\n",
       "      <td>0560</td>\n",
       "      <td>ASSAULT</td>\n",
       "      <td>SIMPLE</td>\n",
       "      <td>APARTMENT</td>\n",
       "      <td>False</td>\n",
       "      <td>True</td>\n",
       "      <td>...</td>\n",
       "      <td>28.0</td>\n",
       "      <td>25.0</td>\n",
       "      <td>08A</td>\n",
       "      <td>1141706.0</td>\n",
       "      <td>1900086.0</td>\n",
       "      <td>2015</td>\n",
       "      <td>02/10/2018 03:50:01 PM</td>\n",
       "      <td>41.881903</td>\n",
       "      <td>-87.755121</td>\n",
       "      <td>(41.881903443, -87.755121152)</td>\n",
       "    </tr>\n",
       "    <tr>\n",
       "      <th>5</th>\n",
       "      <td>10224742</td>\n",
       "      <td>HY411435</td>\n",
       "      <td>09/05/2015 10:55:00 AM</td>\n",
       "      <td>082XX S LOOMIS BLVD</td>\n",
       "      <td>0610</td>\n",
       "      <td>BURGLARY</td>\n",
       "      <td>FORCIBLE ENTRY</td>\n",
       "      <td>RESIDENCE</td>\n",
       "      <td>False</td>\n",
       "      <td>False</td>\n",
       "      <td>...</td>\n",
       "      <td>21.0</td>\n",
       "      <td>71.0</td>\n",
       "      <td>05</td>\n",
       "      <td>1168430.0</td>\n",
       "      <td>1850165.0</td>\n",
       "      <td>2015</td>\n",
       "      <td>02/10/2018 03:50:01 PM</td>\n",
       "      <td>41.744379</td>\n",
       "      <td>-87.658431</td>\n",
       "      <td>(41.744378879, -87.658430635)</td>\n",
       "    </tr>\n",
       "  </tbody>\n",
       "</table>\n",
       "<p>5 rows × 22 columns</p>\n",
       "</div>"
      ],
      "text/plain": [
       "         ID Case Number                    Date                Block  IUCR  \\\n",
       "0  10224738    HY411648  09/05/2015 01:30:00 PM      043XX S WOOD ST  0486   \n",
       "1  10224739    HY411615  09/04/2015 11:30:00 AM  008XX N CENTRAL AVE  0870   \n",
       "3  10224740    HY411595  09/05/2015 12:45:00 PM    035XX W BARRY AVE  2023   \n",
       "4  10224741    HY411610  09/05/2015 01:00:00 PM  0000X N LARAMIE AVE  0560   \n",
       "5  10224742    HY411435  09/05/2015 10:55:00 AM  082XX S LOOMIS BLVD  0610   \n",
       "\n",
       "  Primary Type              Description Location Description  Arrest  \\\n",
       "0      BATTERY  DOMESTIC BATTERY SIMPLE            RESIDENCE   False   \n",
       "1        THEFT           POCKET-PICKING              CTA BUS   False   \n",
       "3    NARCOTICS    POSS: HEROIN(BRN/TAN)             SIDEWALK    True   \n",
       "4      ASSAULT                   SIMPLE            APARTMENT   False   \n",
       "5     BURGLARY           FORCIBLE ENTRY            RESIDENCE   False   \n",
       "\n",
       "   Domestic  ...  Ward  Community Area  FBI Code  X Coordinate Y Coordinate  \\\n",
       "0      True  ...  12.0            61.0       08B     1165074.0    1875917.0   \n",
       "1     False  ...  29.0            25.0        06     1138875.0    1904869.0   \n",
       "3     False  ...  35.0            21.0        18     1152037.0    1920384.0   \n",
       "4      True  ...  28.0            25.0       08A     1141706.0    1900086.0   \n",
       "5     False  ...  21.0            71.0        05     1168430.0    1850165.0   \n",
       "\n",
       "   Year              Updated On   Latitude  Longitude  \\\n",
       "0  2015  02/10/2018 03:50:01 PM  41.815117 -87.670000   \n",
       "1  2015  02/10/2018 03:50:01 PM  41.895080 -87.765400   \n",
       "3  2015  02/10/2018 03:50:01 PM  41.937406 -87.716650   \n",
       "4  2015  02/10/2018 03:50:01 PM  41.881903 -87.755121   \n",
       "5  2015  02/10/2018 03:50:01 PM  41.744379 -87.658431   \n",
       "\n",
       "                        Location  \n",
       "0  (41.815117282, -87.669999562)  \n",
       "1  (41.895080471, -87.765400451)  \n",
       "3  (41.937405765, -87.716649687)  \n",
       "4  (41.881903443, -87.755121152)  \n",
       "5  (41.744378879, -87.658430635)  \n",
       "\n",
       "[5 rows x 22 columns]"
      ]
     },
     "execution_count": 5,
     "metadata": {},
     "output_type": "execute_result"
    }
   ],
   "source": [
    "df_cleaned.head()"
   ]
  },
  {
   "cell_type": "code",
   "execution_count": 10,
   "id": "2ee7f532",
   "metadata": {},
   "outputs": [
    {
     "data": {
      "text/plain": [
       "Index(['ID', 'Case Number', 'Date', 'Block', 'IUCR', 'Primary Type',\n",
       "       'Description', 'Location Description', 'Arrest', 'Domestic', 'Beat',\n",
       "       'District', 'Ward', 'Community Area', 'FBI Code', 'X Coordinate',\n",
       "       'Y Coordinate', 'Year', 'Updated On', 'Latitude', 'Longitude',\n",
       "       'Location'],\n",
       "      dtype='object')"
      ]
     },
     "execution_count": 10,
     "metadata": {},
     "output_type": "execute_result"
    }
   ],
   "source": [
    "df_cleaned.columns"
   ]
  },
  {
   "cell_type": "code",
   "execution_count": 4,
   "id": "13de3e95",
   "metadata": {},
   "outputs": [],
   "source": [
    "df_cleaned = df_cleaned.drop(columns=['ID', 'Case Number', 'IUCR', 'FBI Code', 'X Coordinate', 'Y Coordinate', 'Updated On', 'Location', 'Year'])"
   ]
  },
  {
   "cell_type": "code",
   "execution_count": 7,
   "id": "d065ab82",
   "metadata": {},
   "outputs": [
    {
     "data": {
      "text/html": [
       "<div>\n",
       "<style scoped>\n",
       "    .dataframe tbody tr th:only-of-type {\n",
       "        vertical-align: middle;\n",
       "    }\n",
       "\n",
       "    .dataframe tbody tr th {\n",
       "        vertical-align: top;\n",
       "    }\n",
       "\n",
       "    .dataframe thead th {\n",
       "        text-align: right;\n",
       "    }\n",
       "</style>\n",
       "<table border=\"1\" class=\"dataframe\">\n",
       "  <thead>\n",
       "    <tr style=\"text-align: right;\">\n",
       "      <th></th>\n",
       "      <th>Date</th>\n",
       "      <th>Block</th>\n",
       "      <th>Primary Type</th>\n",
       "      <th>Description</th>\n",
       "      <th>Location Description</th>\n",
       "      <th>Arrest</th>\n",
       "      <th>Domestic</th>\n",
       "      <th>Beat</th>\n",
       "      <th>District</th>\n",
       "      <th>Ward</th>\n",
       "      <th>Community Area</th>\n",
       "      <th>Latitude</th>\n",
       "      <th>Longitude</th>\n",
       "    </tr>\n",
       "  </thead>\n",
       "  <tbody>\n",
       "    <tr>\n",
       "      <th>0</th>\n",
       "      <td>09/05/2015 01:30:00 PM</td>\n",
       "      <td>043XX S WOOD ST</td>\n",
       "      <td>BATTERY</td>\n",
       "      <td>DOMESTIC BATTERY SIMPLE</td>\n",
       "      <td>RESIDENCE</td>\n",
       "      <td>False</td>\n",
       "      <td>True</td>\n",
       "      <td>924</td>\n",
       "      <td>9.0</td>\n",
       "      <td>12.0</td>\n",
       "      <td>61.0</td>\n",
       "      <td>41.815117</td>\n",
       "      <td>-87.670000</td>\n",
       "    </tr>\n",
       "    <tr>\n",
       "      <th>1</th>\n",
       "      <td>09/04/2015 11:30:00 AM</td>\n",
       "      <td>008XX N CENTRAL AVE</td>\n",
       "      <td>THEFT</td>\n",
       "      <td>POCKET-PICKING</td>\n",
       "      <td>CTA BUS</td>\n",
       "      <td>False</td>\n",
       "      <td>False</td>\n",
       "      <td>1511</td>\n",
       "      <td>15.0</td>\n",
       "      <td>29.0</td>\n",
       "      <td>25.0</td>\n",
       "      <td>41.895080</td>\n",
       "      <td>-87.765400</td>\n",
       "    </tr>\n",
       "    <tr>\n",
       "      <th>3</th>\n",
       "      <td>09/05/2015 12:45:00 PM</td>\n",
       "      <td>035XX W BARRY AVE</td>\n",
       "      <td>NARCOTICS</td>\n",
       "      <td>POSS: HEROIN(BRN/TAN)</td>\n",
       "      <td>SIDEWALK</td>\n",
       "      <td>True</td>\n",
       "      <td>False</td>\n",
       "      <td>1412</td>\n",
       "      <td>14.0</td>\n",
       "      <td>35.0</td>\n",
       "      <td>21.0</td>\n",
       "      <td>41.937406</td>\n",
       "      <td>-87.716650</td>\n",
       "    </tr>\n",
       "    <tr>\n",
       "      <th>4</th>\n",
       "      <td>09/05/2015 01:00:00 PM</td>\n",
       "      <td>0000X N LARAMIE AVE</td>\n",
       "      <td>ASSAULT</td>\n",
       "      <td>SIMPLE</td>\n",
       "      <td>APARTMENT</td>\n",
       "      <td>False</td>\n",
       "      <td>True</td>\n",
       "      <td>1522</td>\n",
       "      <td>15.0</td>\n",
       "      <td>28.0</td>\n",
       "      <td>25.0</td>\n",
       "      <td>41.881903</td>\n",
       "      <td>-87.755121</td>\n",
       "    </tr>\n",
       "    <tr>\n",
       "      <th>5</th>\n",
       "      <td>09/05/2015 10:55:00 AM</td>\n",
       "      <td>082XX S LOOMIS BLVD</td>\n",
       "      <td>BURGLARY</td>\n",
       "      <td>FORCIBLE ENTRY</td>\n",
       "      <td>RESIDENCE</td>\n",
       "      <td>False</td>\n",
       "      <td>False</td>\n",
       "      <td>614</td>\n",
       "      <td>6.0</td>\n",
       "      <td>21.0</td>\n",
       "      <td>71.0</td>\n",
       "      <td>41.744379</td>\n",
       "      <td>-87.658431</td>\n",
       "    </tr>\n",
       "  </tbody>\n",
       "</table>\n",
       "</div>"
      ],
      "text/plain": [
       "                     Date                Block Primary Type  \\\n",
       "0  09/05/2015 01:30:00 PM      043XX S WOOD ST      BATTERY   \n",
       "1  09/04/2015 11:30:00 AM  008XX N CENTRAL AVE        THEFT   \n",
       "3  09/05/2015 12:45:00 PM    035XX W BARRY AVE    NARCOTICS   \n",
       "4  09/05/2015 01:00:00 PM  0000X N LARAMIE AVE      ASSAULT   \n",
       "5  09/05/2015 10:55:00 AM  082XX S LOOMIS BLVD     BURGLARY   \n",
       "\n",
       "               Description Location Description  Arrest  Domestic  Beat  \\\n",
       "0  DOMESTIC BATTERY SIMPLE            RESIDENCE   False      True   924   \n",
       "1           POCKET-PICKING              CTA BUS   False     False  1511   \n",
       "3    POSS: HEROIN(BRN/TAN)             SIDEWALK    True     False  1412   \n",
       "4                   SIMPLE            APARTMENT   False      True  1522   \n",
       "5           FORCIBLE ENTRY            RESIDENCE   False     False   614   \n",
       "\n",
       "   District  Ward  Community Area   Latitude  Longitude  \n",
       "0       9.0  12.0            61.0  41.815117 -87.670000  \n",
       "1      15.0  29.0            25.0  41.895080 -87.765400  \n",
       "3      14.0  35.0            21.0  41.937406 -87.716650  \n",
       "4      15.0  28.0            25.0  41.881903 -87.755121  \n",
       "5       6.0  21.0            71.0  41.744379 -87.658431  "
      ]
     },
     "execution_count": 7,
     "metadata": {},
     "output_type": "execute_result"
    }
   ],
   "source": [
    "df_cleaned.head()"
   ]
  },
  {
   "cell_type": "code",
   "execution_count": 5,
   "id": "d71526db",
   "metadata": {},
   "outputs": [],
   "source": [
    "df_cleaned['Date'] = pd.to_datetime(df_cleaned['Date'])  # Convert to datetime format\n",
    "df_cleaned['Hour'] = df_cleaned['Date'].dt.hour  # Extract hour of the day\n",
    "df_cleaned['DayOfWeek'] = df_cleaned['Date'].dt.dayofweek  # Monday=0, Sunday=6\n",
    "df_cleaned['Month'] = df_cleaned['Date'].dt.month  # Extract month\n",
    "df_cleaned['Year'] = df_cleaned['Date'].dt.year  # Extract year\n",
    "df_cleaned['Weekend'] = df_cleaned['DayOfWeek'].apply(lambda x: 1 if x >= 5 else 0)  # 1 if Saturday/Sunday"
   ]
  },
  {
   "cell_type": "code",
   "execution_count": 9,
   "id": "b9e52a15",
   "metadata": {},
   "outputs": [
    {
     "data": {
      "text/html": [
       "<div>\n",
       "<style scoped>\n",
       "    .dataframe tbody tr th:only-of-type {\n",
       "        vertical-align: middle;\n",
       "    }\n",
       "\n",
       "    .dataframe tbody tr th {\n",
       "        vertical-align: top;\n",
       "    }\n",
       "\n",
       "    .dataframe thead th {\n",
       "        text-align: right;\n",
       "    }\n",
       "</style>\n",
       "<table border=\"1\" class=\"dataframe\">\n",
       "  <thead>\n",
       "    <tr style=\"text-align: right;\">\n",
       "      <th></th>\n",
       "      <th>Date</th>\n",
       "      <th>Block</th>\n",
       "      <th>Primary Type</th>\n",
       "      <th>Description</th>\n",
       "      <th>Location Description</th>\n",
       "      <th>Arrest</th>\n",
       "      <th>Domestic</th>\n",
       "      <th>Beat</th>\n",
       "      <th>District</th>\n",
       "      <th>Ward</th>\n",
       "      <th>Community Area</th>\n",
       "      <th>Latitude</th>\n",
       "      <th>Longitude</th>\n",
       "      <th>Hour</th>\n",
       "      <th>DayOfWeek</th>\n",
       "      <th>Month</th>\n",
       "      <th>Year</th>\n",
       "      <th>Weekend</th>\n",
       "    </tr>\n",
       "  </thead>\n",
       "  <tbody>\n",
       "    <tr>\n",
       "      <th>0</th>\n",
       "      <td>2015-09-05 13:30:00</td>\n",
       "      <td>043XX S WOOD ST</td>\n",
       "      <td>BATTERY</td>\n",
       "      <td>DOMESTIC BATTERY SIMPLE</td>\n",
       "      <td>RESIDENCE</td>\n",
       "      <td>False</td>\n",
       "      <td>True</td>\n",
       "      <td>924</td>\n",
       "      <td>9.0</td>\n",
       "      <td>12.0</td>\n",
       "      <td>61.0</td>\n",
       "      <td>41.815117</td>\n",
       "      <td>-87.670000</td>\n",
       "      <td>13</td>\n",
       "      <td>5</td>\n",
       "      <td>9</td>\n",
       "      <td>2015</td>\n",
       "      <td>1</td>\n",
       "    </tr>\n",
       "    <tr>\n",
       "      <th>1</th>\n",
       "      <td>2015-09-04 11:30:00</td>\n",
       "      <td>008XX N CENTRAL AVE</td>\n",
       "      <td>THEFT</td>\n",
       "      <td>POCKET-PICKING</td>\n",
       "      <td>CTA BUS</td>\n",
       "      <td>False</td>\n",
       "      <td>False</td>\n",
       "      <td>1511</td>\n",
       "      <td>15.0</td>\n",
       "      <td>29.0</td>\n",
       "      <td>25.0</td>\n",
       "      <td>41.895080</td>\n",
       "      <td>-87.765400</td>\n",
       "      <td>11</td>\n",
       "      <td>4</td>\n",
       "      <td>9</td>\n",
       "      <td>2015</td>\n",
       "      <td>0</td>\n",
       "    </tr>\n",
       "    <tr>\n",
       "      <th>3</th>\n",
       "      <td>2015-09-05 12:45:00</td>\n",
       "      <td>035XX W BARRY AVE</td>\n",
       "      <td>NARCOTICS</td>\n",
       "      <td>POSS: HEROIN(BRN/TAN)</td>\n",
       "      <td>SIDEWALK</td>\n",
       "      <td>True</td>\n",
       "      <td>False</td>\n",
       "      <td>1412</td>\n",
       "      <td>14.0</td>\n",
       "      <td>35.0</td>\n",
       "      <td>21.0</td>\n",
       "      <td>41.937406</td>\n",
       "      <td>-87.716650</td>\n",
       "      <td>12</td>\n",
       "      <td>5</td>\n",
       "      <td>9</td>\n",
       "      <td>2015</td>\n",
       "      <td>1</td>\n",
       "    </tr>\n",
       "    <tr>\n",
       "      <th>4</th>\n",
       "      <td>2015-09-05 13:00:00</td>\n",
       "      <td>0000X N LARAMIE AVE</td>\n",
       "      <td>ASSAULT</td>\n",
       "      <td>SIMPLE</td>\n",
       "      <td>APARTMENT</td>\n",
       "      <td>False</td>\n",
       "      <td>True</td>\n",
       "      <td>1522</td>\n",
       "      <td>15.0</td>\n",
       "      <td>28.0</td>\n",
       "      <td>25.0</td>\n",
       "      <td>41.881903</td>\n",
       "      <td>-87.755121</td>\n",
       "      <td>13</td>\n",
       "      <td>5</td>\n",
       "      <td>9</td>\n",
       "      <td>2015</td>\n",
       "      <td>1</td>\n",
       "    </tr>\n",
       "    <tr>\n",
       "      <th>5</th>\n",
       "      <td>2015-09-05 10:55:00</td>\n",
       "      <td>082XX S LOOMIS BLVD</td>\n",
       "      <td>BURGLARY</td>\n",
       "      <td>FORCIBLE ENTRY</td>\n",
       "      <td>RESIDENCE</td>\n",
       "      <td>False</td>\n",
       "      <td>False</td>\n",
       "      <td>614</td>\n",
       "      <td>6.0</td>\n",
       "      <td>21.0</td>\n",
       "      <td>71.0</td>\n",
       "      <td>41.744379</td>\n",
       "      <td>-87.658431</td>\n",
       "      <td>10</td>\n",
       "      <td>5</td>\n",
       "      <td>9</td>\n",
       "      <td>2015</td>\n",
       "      <td>1</td>\n",
       "    </tr>\n",
       "  </tbody>\n",
       "</table>\n",
       "</div>"
      ],
      "text/plain": [
       "                 Date                Block Primary Type  \\\n",
       "0 2015-09-05 13:30:00      043XX S WOOD ST      BATTERY   \n",
       "1 2015-09-04 11:30:00  008XX N CENTRAL AVE        THEFT   \n",
       "3 2015-09-05 12:45:00    035XX W BARRY AVE    NARCOTICS   \n",
       "4 2015-09-05 13:00:00  0000X N LARAMIE AVE      ASSAULT   \n",
       "5 2015-09-05 10:55:00  082XX S LOOMIS BLVD     BURGLARY   \n",
       "\n",
       "               Description Location Description  Arrest  Domestic  Beat  \\\n",
       "0  DOMESTIC BATTERY SIMPLE            RESIDENCE   False      True   924   \n",
       "1           POCKET-PICKING              CTA BUS   False     False  1511   \n",
       "3    POSS: HEROIN(BRN/TAN)             SIDEWALK    True     False  1412   \n",
       "4                   SIMPLE            APARTMENT   False      True  1522   \n",
       "5           FORCIBLE ENTRY            RESIDENCE   False     False   614   \n",
       "\n",
       "   District  Ward  Community Area   Latitude  Longitude  Hour  DayOfWeek  \\\n",
       "0       9.0  12.0            61.0  41.815117 -87.670000    13          5   \n",
       "1      15.0  29.0            25.0  41.895080 -87.765400    11          4   \n",
       "3      14.0  35.0            21.0  41.937406 -87.716650    12          5   \n",
       "4      15.0  28.0            25.0  41.881903 -87.755121    13          5   \n",
       "5       6.0  21.0            71.0  41.744379 -87.658431    10          5   \n",
       "\n",
       "   Month  Year  Weekend  \n",
       "0      9  2015        1  \n",
       "1      9  2015        0  \n",
       "3      9  2015        1  \n",
       "4      9  2015        1  \n",
       "5      9  2015        1  "
      ]
     },
     "execution_count": 9,
     "metadata": {},
     "output_type": "execute_result"
    }
   ],
   "source": [
    "df_cleaned.head()"
   ]
  },
  {
   "cell_type": "code",
   "execution_count": 6,
   "id": "ea2bbb1a",
   "metadata": {},
   "outputs": [],
   "source": [
    "from sklearn.cluster import KMeans\n",
    "\n",
    "kmeans = KMeans(n_clusters=10, random_state=42)\n",
    "df_cleaned['LocationCluster'] = kmeans.fit_predict(df_cleaned[['Latitude', 'Longitude']])"
   ]
  },
  {
   "cell_type": "code",
   "execution_count": 11,
   "id": "a71852ff",
   "metadata": {},
   "outputs": [
    {
     "data": {
      "text/html": [
       "<div>\n",
       "<style scoped>\n",
       "    .dataframe tbody tr th:only-of-type {\n",
       "        vertical-align: middle;\n",
       "    }\n",
       "\n",
       "    .dataframe tbody tr th {\n",
       "        vertical-align: top;\n",
       "    }\n",
       "\n",
       "    .dataframe thead th {\n",
       "        text-align: right;\n",
       "    }\n",
       "</style>\n",
       "<table border=\"1\" class=\"dataframe\">\n",
       "  <thead>\n",
       "    <tr style=\"text-align: right;\">\n",
       "      <th></th>\n",
       "      <th>Date</th>\n",
       "      <th>Block</th>\n",
       "      <th>Primary Type</th>\n",
       "      <th>Description</th>\n",
       "      <th>Location Description</th>\n",
       "      <th>Arrest</th>\n",
       "      <th>Domestic</th>\n",
       "      <th>Beat</th>\n",
       "      <th>District</th>\n",
       "      <th>Ward</th>\n",
       "      <th>Community Area</th>\n",
       "      <th>Latitude</th>\n",
       "      <th>Longitude</th>\n",
       "      <th>Hour</th>\n",
       "      <th>DayOfWeek</th>\n",
       "      <th>Month</th>\n",
       "      <th>Year</th>\n",
       "      <th>Weekend</th>\n",
       "      <th>LocationCluster</th>\n",
       "    </tr>\n",
       "  </thead>\n",
       "  <tbody>\n",
       "    <tr>\n",
       "      <th>0</th>\n",
       "      <td>2015-09-05 13:30:00</td>\n",
       "      <td>043XX S WOOD ST</td>\n",
       "      <td>BATTERY</td>\n",
       "      <td>DOMESTIC BATTERY SIMPLE</td>\n",
       "      <td>RESIDENCE</td>\n",
       "      <td>False</td>\n",
       "      <td>True</td>\n",
       "      <td>924</td>\n",
       "      <td>9.0</td>\n",
       "      <td>12.0</td>\n",
       "      <td>61.0</td>\n",
       "      <td>41.815117</td>\n",
       "      <td>-87.670000</td>\n",
       "      <td>13</td>\n",
       "      <td>5</td>\n",
       "      <td>9</td>\n",
       "      <td>2015</td>\n",
       "      <td>1</td>\n",
       "      <td>1</td>\n",
       "    </tr>\n",
       "    <tr>\n",
       "      <th>1</th>\n",
       "      <td>2015-09-04 11:30:00</td>\n",
       "      <td>008XX N CENTRAL AVE</td>\n",
       "      <td>THEFT</td>\n",
       "      <td>POCKET-PICKING</td>\n",
       "      <td>CTA BUS</td>\n",
       "      <td>False</td>\n",
       "      <td>False</td>\n",
       "      <td>1511</td>\n",
       "      <td>15.0</td>\n",
       "      <td>29.0</td>\n",
       "      <td>25.0</td>\n",
       "      <td>41.895080</td>\n",
       "      <td>-87.765400</td>\n",
       "      <td>11</td>\n",
       "      <td>4</td>\n",
       "      <td>9</td>\n",
       "      <td>2015</td>\n",
       "      <td>0</td>\n",
       "      <td>9</td>\n",
       "    </tr>\n",
       "    <tr>\n",
       "      <th>3</th>\n",
       "      <td>2015-09-05 12:45:00</td>\n",
       "      <td>035XX W BARRY AVE</td>\n",
       "      <td>NARCOTICS</td>\n",
       "      <td>POSS: HEROIN(BRN/TAN)</td>\n",
       "      <td>SIDEWALK</td>\n",
       "      <td>True</td>\n",
       "      <td>False</td>\n",
       "      <td>1412</td>\n",
       "      <td>14.0</td>\n",
       "      <td>35.0</td>\n",
       "      <td>21.0</td>\n",
       "      <td>41.937406</td>\n",
       "      <td>-87.716650</td>\n",
       "      <td>12</td>\n",
       "      <td>5</td>\n",
       "      <td>9</td>\n",
       "      <td>2015</td>\n",
       "      <td>1</td>\n",
       "      <td>2</td>\n",
       "    </tr>\n",
       "    <tr>\n",
       "      <th>4</th>\n",
       "      <td>2015-09-05 13:00:00</td>\n",
       "      <td>0000X N LARAMIE AVE</td>\n",
       "      <td>ASSAULT</td>\n",
       "      <td>SIMPLE</td>\n",
       "      <td>APARTMENT</td>\n",
       "      <td>False</td>\n",
       "      <td>True</td>\n",
       "      <td>1522</td>\n",
       "      <td>15.0</td>\n",
       "      <td>28.0</td>\n",
       "      <td>25.0</td>\n",
       "      <td>41.881903</td>\n",
       "      <td>-87.755121</td>\n",
       "      <td>13</td>\n",
       "      <td>5</td>\n",
       "      <td>9</td>\n",
       "      <td>2015</td>\n",
       "      <td>1</td>\n",
       "      <td>9</td>\n",
       "    </tr>\n",
       "    <tr>\n",
       "      <th>5</th>\n",
       "      <td>2015-09-05 10:55:00</td>\n",
       "      <td>082XX S LOOMIS BLVD</td>\n",
       "      <td>BURGLARY</td>\n",
       "      <td>FORCIBLE ENTRY</td>\n",
       "      <td>RESIDENCE</td>\n",
       "      <td>False</td>\n",
       "      <td>False</td>\n",
       "      <td>614</td>\n",
       "      <td>6.0</td>\n",
       "      <td>21.0</td>\n",
       "      <td>71.0</td>\n",
       "      <td>41.744379</td>\n",
       "      <td>-87.658431</td>\n",
       "      <td>10</td>\n",
       "      <td>5</td>\n",
       "      <td>9</td>\n",
       "      <td>2015</td>\n",
       "      <td>1</td>\n",
       "      <td>7</td>\n",
       "    </tr>\n",
       "  </tbody>\n",
       "</table>\n",
       "</div>"
      ],
      "text/plain": [
       "                 Date                Block Primary Type  \\\n",
       "0 2015-09-05 13:30:00      043XX S WOOD ST      BATTERY   \n",
       "1 2015-09-04 11:30:00  008XX N CENTRAL AVE        THEFT   \n",
       "3 2015-09-05 12:45:00    035XX W BARRY AVE    NARCOTICS   \n",
       "4 2015-09-05 13:00:00  0000X N LARAMIE AVE      ASSAULT   \n",
       "5 2015-09-05 10:55:00  082XX S LOOMIS BLVD     BURGLARY   \n",
       "\n",
       "               Description Location Description  Arrest  Domestic  Beat  \\\n",
       "0  DOMESTIC BATTERY SIMPLE            RESIDENCE   False      True   924   \n",
       "1           POCKET-PICKING              CTA BUS   False     False  1511   \n",
       "3    POSS: HEROIN(BRN/TAN)             SIDEWALK    True     False  1412   \n",
       "4                   SIMPLE            APARTMENT   False      True  1522   \n",
       "5           FORCIBLE ENTRY            RESIDENCE   False     False   614   \n",
       "\n",
       "   District  Ward  Community Area   Latitude  Longitude  Hour  DayOfWeek  \\\n",
       "0       9.0  12.0            61.0  41.815117 -87.670000    13          5   \n",
       "1      15.0  29.0            25.0  41.895080 -87.765400    11          4   \n",
       "3      14.0  35.0            21.0  41.937406 -87.716650    12          5   \n",
       "4      15.0  28.0            25.0  41.881903 -87.755121    13          5   \n",
       "5       6.0  21.0            71.0  41.744379 -87.658431    10          5   \n",
       "\n",
       "   Month  Year  Weekend  LocationCluster  \n",
       "0      9  2015        1                1  \n",
       "1      9  2015        0                9  \n",
       "3      9  2015        1                2  \n",
       "4      9  2015        1                9  \n",
       "5      9  2015        1                7  "
      ]
     },
     "execution_count": 11,
     "metadata": {},
     "output_type": "execute_result"
    }
   ],
   "source": [
    "df_cleaned.head()"
   ]
  },
  {
   "cell_type": "code",
   "execution_count": 7,
   "id": "eea6df3a",
   "metadata": {},
   "outputs": [],
   "source": [
    "df_cleaned = df_cleaned.drop(columns=['Date', 'Block'])  # Already extracted useful info"
   ]
  },
  {
   "cell_type": "code",
   "execution_count": 13,
   "id": "3dd42c9e",
   "metadata": {},
   "outputs": [
    {
     "data": {
      "text/html": [
       "<div>\n",
       "<style scoped>\n",
       "    .dataframe tbody tr th:only-of-type {\n",
       "        vertical-align: middle;\n",
       "    }\n",
       "\n",
       "    .dataframe tbody tr th {\n",
       "        vertical-align: top;\n",
       "    }\n",
       "\n",
       "    .dataframe thead th {\n",
       "        text-align: right;\n",
       "    }\n",
       "</style>\n",
       "<table border=\"1\" class=\"dataframe\">\n",
       "  <thead>\n",
       "    <tr style=\"text-align: right;\">\n",
       "      <th></th>\n",
       "      <th>Primary Type</th>\n",
       "      <th>Description</th>\n",
       "      <th>Location Description</th>\n",
       "      <th>Arrest</th>\n",
       "      <th>Domestic</th>\n",
       "      <th>Beat</th>\n",
       "      <th>District</th>\n",
       "      <th>Ward</th>\n",
       "      <th>Community Area</th>\n",
       "      <th>Latitude</th>\n",
       "      <th>Longitude</th>\n",
       "      <th>Hour</th>\n",
       "      <th>DayOfWeek</th>\n",
       "      <th>Month</th>\n",
       "      <th>Year</th>\n",
       "      <th>Weekend</th>\n",
       "      <th>LocationCluster</th>\n",
       "    </tr>\n",
       "  </thead>\n",
       "  <tbody>\n",
       "    <tr>\n",
       "      <th>0</th>\n",
       "      <td>BATTERY</td>\n",
       "      <td>DOMESTIC BATTERY SIMPLE</td>\n",
       "      <td>RESIDENCE</td>\n",
       "      <td>False</td>\n",
       "      <td>True</td>\n",
       "      <td>924</td>\n",
       "      <td>9.0</td>\n",
       "      <td>12.0</td>\n",
       "      <td>61.0</td>\n",
       "      <td>41.815117</td>\n",
       "      <td>-87.670000</td>\n",
       "      <td>13</td>\n",
       "      <td>5</td>\n",
       "      <td>9</td>\n",
       "      <td>2015</td>\n",
       "      <td>1</td>\n",
       "      <td>1</td>\n",
       "    </tr>\n",
       "    <tr>\n",
       "      <th>1</th>\n",
       "      <td>THEFT</td>\n",
       "      <td>POCKET-PICKING</td>\n",
       "      <td>CTA BUS</td>\n",
       "      <td>False</td>\n",
       "      <td>False</td>\n",
       "      <td>1511</td>\n",
       "      <td>15.0</td>\n",
       "      <td>29.0</td>\n",
       "      <td>25.0</td>\n",
       "      <td>41.895080</td>\n",
       "      <td>-87.765400</td>\n",
       "      <td>11</td>\n",
       "      <td>4</td>\n",
       "      <td>9</td>\n",
       "      <td>2015</td>\n",
       "      <td>0</td>\n",
       "      <td>9</td>\n",
       "    </tr>\n",
       "    <tr>\n",
       "      <th>3</th>\n",
       "      <td>NARCOTICS</td>\n",
       "      <td>POSS: HEROIN(BRN/TAN)</td>\n",
       "      <td>SIDEWALK</td>\n",
       "      <td>True</td>\n",
       "      <td>False</td>\n",
       "      <td>1412</td>\n",
       "      <td>14.0</td>\n",
       "      <td>35.0</td>\n",
       "      <td>21.0</td>\n",
       "      <td>41.937406</td>\n",
       "      <td>-87.716650</td>\n",
       "      <td>12</td>\n",
       "      <td>5</td>\n",
       "      <td>9</td>\n",
       "      <td>2015</td>\n",
       "      <td>1</td>\n",
       "      <td>2</td>\n",
       "    </tr>\n",
       "    <tr>\n",
       "      <th>4</th>\n",
       "      <td>ASSAULT</td>\n",
       "      <td>SIMPLE</td>\n",
       "      <td>APARTMENT</td>\n",
       "      <td>False</td>\n",
       "      <td>True</td>\n",
       "      <td>1522</td>\n",
       "      <td>15.0</td>\n",
       "      <td>28.0</td>\n",
       "      <td>25.0</td>\n",
       "      <td>41.881903</td>\n",
       "      <td>-87.755121</td>\n",
       "      <td>13</td>\n",
       "      <td>5</td>\n",
       "      <td>9</td>\n",
       "      <td>2015</td>\n",
       "      <td>1</td>\n",
       "      <td>9</td>\n",
       "    </tr>\n",
       "    <tr>\n",
       "      <th>5</th>\n",
       "      <td>BURGLARY</td>\n",
       "      <td>FORCIBLE ENTRY</td>\n",
       "      <td>RESIDENCE</td>\n",
       "      <td>False</td>\n",
       "      <td>False</td>\n",
       "      <td>614</td>\n",
       "      <td>6.0</td>\n",
       "      <td>21.0</td>\n",
       "      <td>71.0</td>\n",
       "      <td>41.744379</td>\n",
       "      <td>-87.658431</td>\n",
       "      <td>10</td>\n",
       "      <td>5</td>\n",
       "      <td>9</td>\n",
       "      <td>2015</td>\n",
       "      <td>1</td>\n",
       "      <td>7</td>\n",
       "    </tr>\n",
       "  </tbody>\n",
       "</table>\n",
       "</div>"
      ],
      "text/plain": [
       "  Primary Type              Description Location Description  Arrest  \\\n",
       "0      BATTERY  DOMESTIC BATTERY SIMPLE            RESIDENCE   False   \n",
       "1        THEFT           POCKET-PICKING              CTA BUS   False   \n",
       "3    NARCOTICS    POSS: HEROIN(BRN/TAN)             SIDEWALK    True   \n",
       "4      ASSAULT                   SIMPLE            APARTMENT   False   \n",
       "5     BURGLARY           FORCIBLE ENTRY            RESIDENCE   False   \n",
       "\n",
       "   Domestic  Beat  District  Ward  Community Area   Latitude  Longitude  Hour  \\\n",
       "0      True   924       9.0  12.0            61.0  41.815117 -87.670000    13   \n",
       "1     False  1511      15.0  29.0            25.0  41.895080 -87.765400    11   \n",
       "3     False  1412      14.0  35.0            21.0  41.937406 -87.716650    12   \n",
       "4      True  1522      15.0  28.0            25.0  41.881903 -87.755121    13   \n",
       "5     False   614       6.0  21.0            71.0  41.744379 -87.658431    10   \n",
       "\n",
       "   DayOfWeek  Month  Year  Weekend  LocationCluster  \n",
       "0          5      9  2015        1                1  \n",
       "1          4      9  2015        0                9  \n",
       "3          5      9  2015        1                2  \n",
       "4          5      9  2015        1                9  \n",
       "5          5      9  2015        1                7  "
      ]
     },
     "execution_count": 13,
     "metadata": {},
     "output_type": "execute_result"
    }
   ],
   "source": [
    "df_cleaned.head()"
   ]
  },
  {
   "cell_type": "code",
   "execution_count": 8,
   "id": "259c88ea",
   "metadata": {},
   "outputs": [],
   "source": [
    "df_cleaned.to_pickle(\"crime_data.pkl\")"
   ]
  },
  {
   "cell_type": "code",
   "execution_count": 3,
   "id": "d6a6e579",
   "metadata": {},
   "outputs": [],
   "source": [
    "df_cleaned = pd.read_pickle(\"crime_data.pkl\")"
   ]
  },
  {
   "cell_type": "code",
   "execution_count": 14,
   "id": "e8890bf4",
   "metadata": {},
   "outputs": [],
   "source": [
    "crime_counts = df_cleaned['Primary Type'].value_counts().reset_index()\n",
    "crime_counts.columns = ['Crime Type', 'Count']"
   ]
  },
  {
   "cell_type": "code",
   "execution_count": 27,
   "id": "492fc280",
   "metadata": {},
   "outputs": [
    {
     "data": {
      "image/png": "[encoded data removed]",
      "text/plain": [
       "<Figure size 1200x600 with 1 Axes>"
      ]
     },
     "metadata": {},
     "output_type": "display_data"
    }
   ],
   "source": [
    "import seaborn as sns\n",
    "import matplotlib.pyplot as plt\n",
    "\n",
    "plt.figure(figsize=(12, 6))\n",
    "sns.barplot(x='Count', y='Crime Type', data=crime_counts, palette='viridis')\n",
    "plt.xlabel('Number of Crimes', fontsize=12)\n",
    "plt.ylabel('Crime Type', fontsize=12)\n",
    "plt.title('Most Frequent Crime Types', fontsize=14)\n",
    "plt.grid(axis='x', linestyle='--', alpha=0.7)\n",
    "\n",
    "plt.show()"
   ]
  },
  {
   "cell_type": "code",
   "execution_count": 28,
   "id": "d97e64e2",
   "metadata": {},
   "outputs": [],
   "source": [
    "crimes_per_year = df_cleaned['Year'].value_counts().sort_index()"
   ]
  },
  {
   "cell_type": "code",
   "execution_count": 31,
   "id": "4d5f623d",
   "metadata": {
    "scrolled": true
   },
   "outputs": [
    {
     "data": {
      "image/png": "[encoded data removed]",
      "text/plain": [
       "<Figure size 1000x500 with 1 Axes>"
      ]
     },
     "metadata": {},
     "output_type": "display_data"
    }
   ],
   "source": [
    "plt.figure(figsize=(8, 5))\n",
    "sns.lineplot(x=crimes_per_year.index, y=crimes_per_year.values, marker='o', linestyle='-')\n",
    "plt.xlabel('Year', fontsize=12)\n",
    "plt.ylabel('Crimes', fontsize=12)\n",
    "plt.title('Crimes Per Year', fontsize=14)\n",
    "plt.grid(True, linestyle='--', alpha=0.5)\n",
    "plt.show()"
   ]
  },
  {
   "cell_type": "code",
   "execution_count": 11,
   "id": "41ee9628",
   "metadata": {},
   "outputs": [],
   "source": [
    "import matplotlib.pyplot as plt\n",
    "crime_data = df_cleaned[['Latitude', 'Longitude']].dropna()"
   ]
  },
  {
   "cell_type": "code",
   "execution_count": 14,
   "id": "2f512975",
   "metadata": {},
   "outputs": [
    {
     "data": {
      "text/plain": [
       "-91.686565684"
      ]
     },
     "execution_count": 14,
     "metadata": {},
     "output_type": "execute_result"
    }
   ],
   "source": [
    "crime_data['Longitude'].min()"
   ]
  },
  {
   "cell_type": "code",
   "execution_count": 17,
   "id": "bda3b31d",
   "metadata": {},
   "outputs": [
    {
     "data": {
      "text/plain": [
       "-91.686565684"
      ]
     },
     "execution_count": 17,
     "metadata": {},
     "output_type": "execute_result"
    }
   ],
   "source": [
    "crime_data['Longitude'].min()"
   ]
  },
  {
   "cell_type": "code",
   "execution_count": 15,
   "id": "bf96eb9f",
   "metadata": {},
   "outputs": [
    {
     "data": {
      "text/plain": [
       "36.619446395"
      ]
     },
     "execution_count": 15,
     "metadata": {},
     "output_type": "execute_result"
    }
   ],
   "source": [
    "crime_data['Latitude'].min()"
   ]
  },
  {
   "cell_type": "code",
   "execution_count": 18,
   "id": "2d65bfc1",
   "metadata": {},
   "outputs": [
    {
     "data": {
      "image/png": "[encoded data removed]",
      "text/plain": [
       "<Figure size 1000x600 with 2 Axes>"
      ]
     },
     "metadata": {},
     "output_type": "display_data"
    }
   ],
   "source": [
    "plt.figure(figsize=(8, 6))\n",
    "\n",
    "plt.hexbin(\n",
    "    crime_data['Longitude'], crime_data['Latitude'], \n",
    "    gridsize=100, cmap='Reds', mincnt=1\n",
    ")\n",
    "\n",
    "plt.xlim(-90, -85)\n",
    "plt.ylim(41, 42)\n",
    "\n",
    "plt.colorbar(label=\"Crime Density\")\n",
    "plt.xlabel(\"Longitude\")\n",
    "plt.ylabel(\"Latitude\")\n",
    "plt.title(\"Crime Density Heatmap\")\n",
    "plt.show()\n"
   ]
  },
  {
   "cell_type": "code",
   "execution_count": null,
   "id": "387d37e4",
   "metadata": {},
   "outputs": [],
   "source": [
    "print(\"hello\")"
   ]
  },
  {
   "cell_type": "code",
   "execution_count": 23,
   "id": "77226480",
   "metadata": {},
   "outputs": [
    {
     "data": {
      "image/png": "[encoded data removed]",
      "text/plain": [
       "<Figure size 1000x500 with 1 Axes>"
      ]
     },
     "metadata": {},
     "output_type": "display_data"
    }
   ],
   "source": [
    "hourly_crime_counts = df_cleaned['Hour'].value_counts().sort_index()\n",
    "\n",
    "# Plot\n",
    "plt.figure(figsize=(10, 5))\n",
    "sns.lineplot(x=hourly_crime_counts.index, y=hourly_crime_counts.values, marker='o')\n",
    "\n",
    "# Labels and title\n",
    "plt.xlabel(\"Hour of the Day\")\n",
    "plt.ylabel(\"Number of Crimes\")\n",
    "plt.title(\"Crime Frequency by Hour of Day\")\n",
    "plt.xticks(range(0, 24))  # Ensure all 24 hours are labeled\n",
    "plt.grid(True)\n",
    "plt.show()\n"
   ]
  },
  {
   "cell_type": "code",
   "execution_count": 24,
   "id": "25bdba06",
   "metadata": {},
   "outputs": [
    {
     "data": {
      "image/png": "[encoded data removed]",
      "text/plain": [
       "<Figure size 1200x600 with 1 Axes>"
      ]
     },
     "metadata": {},
     "output_type": "display_data"
    }
   ],
   "source": [
    "top_locations = df_cleaned[\"Location Description\"].value_counts().head(10)\n",
    "\n",
    "# Plot the top locations\n",
    "plt.figure(figsize=(12, 6))\n",
    "sns.barplot(y=top_locations.index, x=top_locations.values, palette=\"Reds\")\n",
    "\n",
    "# Labels and title\n",
    "plt.xlabel(\"Number of Crimes\")\n",
    "plt.ylabel(\"Location Description\")\n",
    "plt.title(\"Top 10 Most Common Crime Locations\")\n",
    "plt.grid(axis='x')\n",
    "plt.show()"
   ]
  },
  {
   "cell_type": "code",
   "execution_count": 29,
   "id": "b8aac55c",
   "metadata": {},
   "outputs": [
    {
     "data": {
      "image/png": "[encoded data removed]",
      "text/plain": [
       "<Figure size 800x800 with 1 Axes>"
      ]
     },
     "metadata": {},
     "output_type": "display_data"
    }
   ],
   "source": [
    "plt.figure(figsize=(8, 8))\n",
    "\n",
    "top_locations.plot(\n",
    "    kind=\"pie\", \n",
    "    autopct=\"%1.1f%%\", \n",
    "    cmap=\"Reds\", \n",
    "    startangle=90, \n",
    "    textprops={'fontsize': 5}  # Adjust font size for labels\n",
    ")\n",
    "\n",
    "plt.title(\"Top 10 Crime Locations Distribution\", fontsize=12)  # Adjust title font size\n",
    "plt.ylabel(\"\")  # Remove default ylabel\n",
    "plt.show()\n"
   ]
  },
  {
   "cell_type": "code",
   "execution_count": 1,
   "id": "4331e168",
   "metadata": {},
   "outputs": [],
   "source": [
    "import pandas as pd\n",
    "df_cleaned = pd.read_pickle(\"crime_data.pkl\")"
   ]
  },
  {
   "cell_type": "code",
   "execution_count": 3,
   "id": "40424b1b",
   "metadata": {},
   "outputs": [
    {
     "data": {
      "text/html": [
       "<div>\n",
       "<style scoped>\n",
       "    .dataframe tbody tr th:only-of-type {\n",
       "        vertical-align: middle;\n",
       "    }\n",
       "\n",
       "    .dataframe tbody tr th {\n",
       "        vertical-align: top;\n",
       "    }\n",
       "\n",
       "    .dataframe thead th {\n",
       "        text-align: right;\n",
       "    }\n",
       "</style>\n",
       "<table border=\"1\" class=\"dataframe\">\n",
       "  <thead>\n",
       "    <tr style=\"text-align: right;\">\n",
       "      <th></th>\n",
       "      <th>Primary Type</th>\n",
       "      <th>Description</th>\n",
       "      <th>Location Description</th>\n",
       "      <th>Arrest</th>\n",
       "      <th>Domestic</th>\n",
       "      <th>Beat</th>\n",
       "      <th>District</th>\n",
       "      <th>Ward</th>\n",
       "      <th>Community Area</th>\n",
       "      <th>Latitude</th>\n",
       "      <th>Longitude</th>\n",
       "      <th>Hour</th>\n",
       "      <th>DayOfWeek</th>\n",
       "      <th>Month</th>\n",
       "      <th>Year</th>\n",
       "      <th>Weekend</th>\n",
       "      <th>LocationCluster</th>\n",
       "    </tr>\n",
       "  </thead>\n",
       "  <tbody>\n",
       "    <tr>\n",
       "      <th>0</th>\n",
       "      <td>BATTERY</td>\n",
       "      <td>DOMESTIC BATTERY SIMPLE</td>\n",
       "      <td>RESIDENCE</td>\n",
       "      <td>False</td>\n",
       "      <td>True</td>\n",
       "      <td>924</td>\n",
       "      <td>9.0</td>\n",
       "      <td>12.0</td>\n",
       "      <td>61.0</td>\n",
       "      <td>41.815117</td>\n",
       "      <td>-87.670000</td>\n",
       "      <td>13</td>\n",
       "      <td>5</td>\n",
       "      <td>9</td>\n",
       "      <td>2015</td>\n",
       "      <td>1</td>\n",
       "      <td>1</td>\n",
       "    </tr>\n",
       "    <tr>\n",
       "      <th>1</th>\n",
       "      <td>THEFT</td>\n",
       "      <td>POCKET-PICKING</td>\n",
       "      <td>CTA BUS</td>\n",
       "      <td>False</td>\n",
       "      <td>False</td>\n",
       "      <td>1511</td>\n",
       "      <td>15.0</td>\n",
       "      <td>29.0</td>\n",
       "      <td>25.0</td>\n",
       "      <td>41.895080</td>\n",
       "      <td>-87.765400</td>\n",
       "      <td>11</td>\n",
       "      <td>4</td>\n",
       "      <td>9</td>\n",
       "      <td>2015</td>\n",
       "      <td>0</td>\n",
       "      <td>9</td>\n",
       "    </tr>\n",
       "    <tr>\n",
       "      <th>3</th>\n",
       "      <td>NARCOTICS</td>\n",
       "      <td>POSS: HEROIN(BRN/TAN)</td>\n",
       "      <td>SIDEWALK</td>\n",
       "      <td>True</td>\n",
       "      <td>False</td>\n",
       "      <td>1412</td>\n",
       "      <td>14.0</td>\n",
       "      <td>35.0</td>\n",
       "      <td>21.0</td>\n",
       "      <td>41.937406</td>\n",
       "      <td>-87.716650</td>\n",
       "      <td>12</td>\n",
       "      <td>5</td>\n",
       "      <td>9</td>\n",
       "      <td>2015</td>\n",
       "      <td>1</td>\n",
       "      <td>2</td>\n",
       "    </tr>\n",
       "    <tr>\n",
       "      <th>4</th>\n",
       "      <td>ASSAULT</td>\n",
       "      <td>SIMPLE</td>\n",
       "      <td>APARTMENT</td>\n",
       "      <td>False</td>\n",
       "      <td>True</td>\n",
       "      <td>1522</td>\n",
       "      <td>15.0</td>\n",
       "      <td>28.0</td>\n",
       "      <td>25.0</td>\n",
       "      <td>41.881903</td>\n",
       "      <td>-87.755121</td>\n",
       "      <td>13</td>\n",
       "      <td>5</td>\n",
       "      <td>9</td>\n",
       "      <td>2015</td>\n",
       "      <td>1</td>\n",
       "      <td>9</td>\n",
       "    </tr>\n",
       "    <tr>\n",
       "      <th>5</th>\n",
       "      <td>BURGLARY</td>\n",
       "      <td>FORCIBLE ENTRY</td>\n",
       "      <td>RESIDENCE</td>\n",
       "      <td>False</td>\n",
       "      <td>False</td>\n",
       "      <td>614</td>\n",
       "      <td>6.0</td>\n",
       "      <td>21.0</td>\n",
       "      <td>71.0</td>\n",
       "      <td>41.744379</td>\n",
       "      <td>-87.658431</td>\n",
       "      <td>10</td>\n",
       "      <td>5</td>\n",
       "      <td>9</td>\n",
       "      <td>2015</td>\n",
       "      <td>1</td>\n",
       "      <td>7</td>\n",
       "    </tr>\n",
       "  </tbody>\n",
       "</table>\n",
       "</div>"
      ],
      "text/plain": [
       "  Primary Type              Description Location Description  Arrest  \\\n",
       "0      BATTERY  DOMESTIC BATTERY SIMPLE            RESIDENCE   False   \n",
       "1        THEFT           POCKET-PICKING              CTA BUS   False   \n",
       "3    NARCOTICS    POSS: HEROIN(BRN/TAN)             SIDEWALK    True   \n",
       "4      ASSAULT                   SIMPLE            APARTMENT   False   \n",
       "5     BURGLARY           FORCIBLE ENTRY            RESIDENCE   False   \n",
       "\n",
       "   Domestic  Beat  District  Ward  Community Area   Latitude  Longitude  Hour  \\\n",
       "0      True   924       9.0  12.0            61.0  41.815117 -87.670000    13   \n",
       "1     False  1511      15.0  29.0            25.0  41.895080 -87.765400    11   \n",
       "3     False  1412      14.0  35.0            21.0  41.937406 -87.716650    12   \n",
       "4      True  1522      15.0  28.0            25.0  41.881903 -87.755121    13   \n",
       "5     False   614       6.0  21.0            71.0  41.744379 -87.658431    10   \n",
       "\n",
       "   DayOfWeek  Month  Year  Weekend  LocationCluster  \n",
       "0          5      9  2015        1                1  \n",
       "1          4      9  2015        0                9  \n",
       "3          5      9  2015        1                2  \n",
       "4          5      9  2015        1                9  \n",
       "5          5      9  2015        1                7  "
      ]
     },
     "execution_count": 3,
     "metadata": {},
     "output_type": "execute_result"
    }
   ],
   "source": [
    "df_cleaned.head()"
   ]
  },
  {
   "cell_type": "code",
   "execution_count": 4,
   "id": "94dd8a45",
   "metadata": {},
   "outputs": [
    {
     "data": {
      "text/plain": [
       "array(['BATTERY', 'THEFT', 'NARCOTICS', 'ASSAULT', 'BURGLARY', 'ROBBERY',\n",
       "       'OTHER OFFENSE', 'CRIMINAL DAMAGE', 'WEAPONS VIOLATION',\n",
       "       'DECEPTIVE PRACTICE', 'CRIMINAL TRESPASS', 'MOTOR VEHICLE THEFT',\n",
       "       'SEX OFFENSE', 'INTERFERENCE WITH PUBLIC OFFICER',\n",
       "       'OFFENSE INVOLVING CHILDREN', 'PUBLIC PEACE VIOLATION',\n",
       "       'PROSTITUTION', 'GAMBLING', 'CRIM SEXUAL ASSAULT',\n",
       "       'LIQUOR LAW VIOLATION', 'ARSON', 'STALKING', 'KIDNAPPING',\n",
       "       'INTIMIDATION', 'CONCEALED CARRY LICENSE VIOLATION',\n",
       "       'NON - CRIMINAL', 'HUMAN TRAFFICKING', 'OBSCENITY',\n",
       "       'CRIMINAL SEXUAL ASSAULT', 'PUBLIC INDECENCY',\n",
       "       'OTHER NARCOTIC VIOLATION', 'NON-CRIMINAL', 'HOMICIDE',\n",
       "       'NON-CRIMINAL (SUBJECT SPECIFIED)', 'RITUALISM'], dtype=object)"
      ]
     },
     "execution_count": 4,
     "metadata": {},
     "output_type": "execute_result"
    }
   ],
   "source": [
    "df_cleaned[\"Primary Type\"].unique()"
   ]
  },
  {
   "cell_type": "code",
   "execution_count": 5,
   "id": "745030dc",
   "metadata": {},
   "outputs": [],
   "source": [
    "#Predicting hotspots for Narcotics based on day of week and hour of day."
   ]
  },
  {
   "cell_type": "code",
   "execution_count": 6,
   "id": "43f93586",
   "metadata": {},
   "outputs": [],
   "source": [
    "narcotics_df = df_cleaned[df_cleaned[\"Primary Type\"] == \"NARCOTICS\"]"
   ]
  },
  {
   "cell_type": "code",
   "execution_count": 6,
   "id": "02e41c54",
   "metadata": {},
   "outputs": [],
   "source": [
    "from sklearn.model_selection import train_test_split\n",
    "from sklearn.ensemble import RandomForestRegressor\n",
    "from sklearn.metrics import mean_absolute_error"
   ]
  },
  {
   "cell_type": "code",
   "execution_count": 8,
   "id": "393ca1dc",
   "metadata": {},
   "outputs": [],
   "source": [
    "X = narcotics_df[[\"Hour\", \"DayOfWeek\"]]\n",
    "y = narcotics_df[[\"Latitude\", \"Longitude\"]]"
   ]
  },
  {
   "cell_type": "code",
   "execution_count": 9,
   "id": "17d074c8",
   "metadata": {},
   "outputs": [],
   "source": [
    "X_train, X_test, y_train, y_test = train_test_split(X, y, test_size=0.2, random_state=42)"
   ]
  },
  {
   "cell_type": "code",
   "execution_count": 10,
   "id": "b97c6810",
   "metadata": {},
   "outputs": [
    {
     "data": {
      "text/plain": [
       "RandomForestRegressor(random_state=42)"
      ]
     },
     "execution_count": 10,
     "metadata": {},
     "output_type": "execute_result"
    }
   ],
   "source": [
    "model = RandomForestRegressor(n_estimators=100, random_state=42)\n",
    "model.fit(X_train, y_train)"
   ]
  },
  {
   "cell_type": "code",
   "execution_count": 11,
   "id": "60232217",
   "metadata": {},
   "outputs": [
    {
     "name": "stdout",
     "output_type": "stream",
     "text": [
      "Mean Absolute Error: 0.057201110568555105\n"
     ]
    }
   ],
   "source": [
    "y_pred = model.predict(X_test)\n",
    "print(\"Mean Absolute Error:\", mean_absolute_error(y_test, y_pred))"
   ]
  },
  {
   "cell_type": "code",
   "execution_count": 12,
   "id": "ac166489",
   "metadata": {},
   "outputs": [
    {
     "name": "stdout",
     "output_type": "stream",
     "text": [
      "Predicted Hotspot Location: [[ 41.84556662 -87.68549395]]\n"
     ]
    },
    {
     "name": "stderr",
     "output_type": "stream",
     "text": [
      "c:\\users\\administrator\\appdata\\local\\programs\\python\\python37\\lib\\site-packages\\sklearn\\base.py:451: UserWarning: X does not have valid feature names, but RandomForestRegressor was fitted with feature names\n",
      "  \"X does not have valid feature names, but\"\n"
     ]
    }
   ],
   "source": [
    "# Predict future hotspots\n",
    "hour = 15  # Example: 3 PM\n",
    "day_of_week = 3  # Example: Wednesday\n",
    "predicted_location = model.predict([[hour, day_of_week]])\n",
    "print(\"Predicted Hotspot Location:\", predicted_location)"
   ]
  },
  {
   "cell_type": "code",
   "execution_count": 13,
   "id": "94e3fe86",
   "metadata": {},
   "outputs": [],
   "source": [
    "#Better Approach with more features"
   ]
  },
  {
   "cell_type": "code",
   "execution_count": 14,
   "id": "a146fa46",
   "metadata": {},
   "outputs": [],
   "source": [
    "features = [\"Hour\", \"DayOfWeek\", \"Month\", \"Weekend\", \"District\", \"Community Area\",]\n",
    "\n",
    "# Extract target variables\n",
    "X = narcotics_df[features]\n",
    "y_lat = narcotics_df[\"Latitude\"]\n",
    "y_lon = narcotics_df[\"Longitude\"]"
   ]
  },
  {
   "cell_type": "code",
   "execution_count": 15,
   "id": "eb4ec12a",
   "metadata": {},
   "outputs": [],
   "source": [
    "X_train, X_test, y_lat_train, y_lat_test = train_test_split(X, y_lat, test_size=0.2, random_state=42)\n",
    "X_train, X_test, y_lon_train, y_lon_test = train_test_split(X, y_lon, test_size=0.2, random_state=42)"
   ]
  },
  {
   "cell_type": "code",
   "execution_count": 17,
   "id": "44034986",
   "metadata": {},
   "outputs": [],
   "source": [
    "lat_model = RandomForestRegressor(n_estimators=200, max_depth=15, random_state=42)\n",
    "lon_model = RandomForestRegressor(n_estimators=200, max_depth=15, random_state=42)"
   ]
  },
  {
   "cell_type": "code",
   "execution_count": 18,
   "id": "52ad873d",
   "metadata": {},
   "outputs": [
    {
     "data": {
      "text/plain": [
       "RandomForestRegressor(max_depth=15, n_estimators=200, random_state=42)"
      ]
     },
     "execution_count": 18,
     "metadata": {},
     "output_type": "execute_result"
    }
   ],
   "source": [
    "lat_model.fit(X_train, y_lat_train)\n",
    "lon_model.fit(X_train, y_lon_train)"
   ]
  },
  {
   "cell_type": "code",
   "execution_count": 20,
   "id": "2808ec25",
   "metadata": {},
   "outputs": [],
   "source": [
    "lat_pred = lat_model.predict(X_test)\n",
    "lon_pred = lon_model.predict(X_test)"
   ]
  },
  {
   "cell_type": "code",
   "execution_count": 24,
   "id": "e7a6c76b",
   "metadata": {},
   "outputs": [
    {
     "name": "stdout",
     "output_type": "stream",
     "text": [
      "Improved Latitude MAE: 0.005121529137325428\n",
      "Improved Longitude MAE: 0.006535540584667848\n"
     ]
    }
   ],
   "source": [
    "mae_lat = mean_absolute_error(y_lat_test, lat_pred)\n",
    "mae_long = mean_absolute_error(y_lon_test, lon_pred)\n",
    "print(\"Improved Latitude MAE:\", mae_lat)\n",
    "print(\"Improved Longitude MAE:\", mae_long)"
   ]
  },
  {
   "cell_type": "code",
   "execution_count": 23,
   "id": "f467e37d",
   "metadata": {},
   "outputs": [],
   "source": [
    "#Near Chicago (~41.8° latitude): 1° longitude ≈ 85 km (85,000 meters)"
   ]
  },
  {
   "cell_type": "code",
   "execution_count": 29,
   "id": "b14a7e28",
   "metadata": {},
   "outputs": [
    {
     "name": "stdout",
     "output_type": "stream",
     "text": [
      "lat_error:  570 meters.\n",
      "long_error 556 meters.\n"
     ]
    }
   ],
   "source": [
    "lat_error = mae_lat * 111320\n",
    "long_error = mae_long * 85000\n",
    "\n",
    "print(\"lat_error: \",round(lat_error),\"meters.\")\n",
    "print(\"long_error\",round(long_error),\"meters.\")"
   ]
  },
  {
   "cell_type": "code",
   "execution_count": 33,
   "id": "a262ee9d",
   "metadata": {},
   "outputs": [
    {
     "name": "stdout",
     "output_type": "stream",
     "text": [
      "Narcotics effective_patrol_radius: 563 meters.\n"
     ]
    }
   ],
   "source": [
    "effective_patrol_radius = (lat_error+long_error)/2\n",
    "print(\"Narcotics effective_patrol_radius:\",round(effective_patrol_radius),\"meters.\")"
   ]
  },
  {
   "cell_type": "code",
   "execution_count": 38,
   "id": "5dc1ce31",
   "metadata": {},
   "outputs": [
    {
     "name": "stdout",
     "output_type": "stream",
     "text": [
      "Predicted Hotspot Location: ( 41.936 , -87.709 )\n",
      "Original Value: 41.937, -87.716\n"
     ]
    },
    {
     "name": "stderr",
     "output_type": "stream",
     "text": [
      "c:\\users\\administrator\\appdata\\local\\programs\\python\\python37\\lib\\site-packages\\sklearn\\base.py:451: UserWarning: X does not have valid feature names, but RandomForestRegressor was fitted with feature names\n",
      "  \"X does not have valid feature names, but\"\n",
      "c:\\users\\administrator\\appdata\\local\\programs\\python\\python37\\lib\\site-packages\\sklearn\\base.py:451: UserWarning: X does not have valid feature names, but RandomForestRegressor was fitted with feature names\n",
      "  \"X does not have valid feature names, but\"\n"
     ]
    }
   ],
   "source": [
    "new_data = [[12, 5, 9, 1, 14.0, 21.0]]\n",
    "predicted_lat = lat_model.predict(new_data)[0]\n",
    "predicted_lon = lon_model.predict(new_data)[0]\n",
    "\n",
    "print(\"Predicted Hotspot Location: (\", round(predicted_lat, 3), \",\", round(predicted_lon, 3), \")\")\n",
    "print(\"Original Value: 41.937, -87.716\")"
   ]
  },
  {
   "cell_type": "code",
   "execution_count": 39,
   "id": "9b8ec6be",
   "metadata": {},
   "outputs": [],
   "source": [
    "#Predicting Peak Crime Hours"
   ]
  },
  {
   "cell_type": "code",
   "execution_count": 2,
   "id": "d1a4a09e",
   "metadata": {},
   "outputs": [],
   "source": [
    "import matplotlib.pyplot as plt\n",
    "import seaborn as sns\n",
    "from sklearn.ensemble import RandomForestClassifier\n",
    "from sklearn.metrics import accuracy_score"
   ]
  },
  {
   "cell_type": "code",
   "execution_count": 3,
   "id": "434f3be1",
   "metadata": {},
   "outputs": [],
   "source": [
    "features = [\"Beat\", \"District\", \"Ward\", \"Community Area\", \"DayOfWeek\", \"Month\", \"Year\", \"Weekend\"]\n",
    "target = \"Hour\""
   ]
  },
  {
   "cell_type": "code",
   "execution_count": 4,
   "id": "a5036d73",
   "metadata": {},
   "outputs": [],
   "source": [
    "X2 = df_cleaned[features]\n",
    "y2 = df_cleaned[target]"
   ]
  },
  {
   "cell_type": "code",
   "execution_count": 7,
   "id": "e9fd804f",
   "metadata": {},
   "outputs": [],
   "source": [
    "X_train, X_test, y_train, y_test = train_test_split(X2, y2, test_size=0.2, random_state=42)"
   ]
  },
  {
   "cell_type": "code",
   "execution_count": null,
   "id": "9d7d93d8",
   "metadata": {},
   "outputs": [],
   "source": [
    "model = RandomForestClassifier(n_estimators=100, random_state=42)\n",
    "model.fit(X_train, y_train)"
   ]
  },
  {
   "cell_type": "code",
   "execution_count": null,
   "id": "effd52b7",
   "metadata": {},
   "outputs": [],
   "source": [
    "y_pred = model.predict(X_test)"
   ]
  },
  {
   "cell_type": "code",
   "execution_count": null,
   "id": "f3d50e70",
   "metadata": {},
   "outputs": [],
   "source": [
    "accuracy = accuracy_score(y_test, y_pred)\n",
    "print(\"Model Accuracy:\", accuracy)"
   ]
  },
  {
   "cell_type": "code",
   "execution_count": null,
   "id": "62be1685",
   "metadata": {},
   "outputs": [],
   "source": []
  }
 ],
 "metadata": {
  "kernelspec": {
   "display_name": "Python 3 (ipykernel)",
   "language": "python",
   "name": "python3"
  },
  "language_info": {
   "codemirror_mode": {
    "name": "ipython",
    "version": 3
   },
   "file_extension": ".py",
   "mimetype": "text/x-python",
   "name": "python",
   "nbconvert_exporter": "python",
   "pygments_lexer": "ipython3",
   "version": "3.7.0"
  }
 },
 "nbformat": 4,
 "nbformat_minor": 5
}
